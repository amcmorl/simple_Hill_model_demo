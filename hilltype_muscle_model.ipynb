{
 "cells": [
  {
   "cell_type": "markdown",
   "metadata": {},
   "source": [
    "# Hill-type muscle model#\n",
    "This notebook demonstrates the Hill-type muscle model. It builds on the openmuscle library by Phylliida Dev (not sure if this is a nickname or not) hosted here: https://github.com/Phylliida/openmuscle, which implements in Python the model of Daniel Haeufle [https://github.com/daniel-haeufle/macroscopic-muscle-model] and colleagues. I made a couple of minor modifications to `openmuscle` to return more of the state variables.\n",
    "\n",
    "I also added the excitation-to-activation calculation based on https://simtk-confluence.stanford.edu/display/OpenSim/First-Order+Activation+Dynamics, and changed the activation and inactivation constants to approximate the curves shown in Robertson, G., Caldwell, G., Hamill, J., Kamen, G., & Whittlesey, S. (2013). *Research methods in biomechanics*, 2E. Human Kinetics."
   ]
  },
  {
   "cell_type": "code",
   "execution_count": 1,
   "metadata": {},
   "outputs": [
    {
     "name": "stderr",
     "output_type": "stream",
     "text": [
      "/home/nbuser/anaconda3_420/lib/python3.5/importlib/_bootstrap.py:222: RuntimeWarning: numpy.dtype size changed, may indicate binary incompatibility. Expected 96, got 88\n",
      "  return f(*args, **kwds)\n",
      "/home/nbuser/anaconda3_420/lib/python3.5/importlib/_bootstrap.py:222: RuntimeWarning: numpy.dtype size changed, may indicate binary incompatibility. Expected 96, got 88\n",
      "  return f(*args, **kwds)\n",
      "/home/nbuser/anaconda3_420/lib/python3.5/importlib/_bootstrap.py:222: RuntimeWarning: numpy.dtype size changed, may indicate binary incompatibility. Expected 96, got 88\n",
      "  return f(*args, **kwds)\n"
     ]
    }
   ],
   "source": [
    "import numpy as np\n",
    "import openmuscle\n",
    "from scipy.integrate import odeint\n",
    "\n",
    "from ipywidgets import interact, interactive, fixed, interact_manual, FloatSlider\n",
    "import ipywidgets as widgets\n",
    "\n",
    "import matplotlib.pyplot as plt\n",
    "%matplotlib inline\n",
    "import matplotlib.gridspec as gridspec\n",
    "import seaborn as sns\n",
    "sns.set_style('white')\n",
    "from matplotlib.colors import ListedColormap"
   ]
  },
  {
   "cell_type": "code",
   "execution_count": 2,
   "metadata": {},
   "outputs": [],
   "source": [
    "# for generating activation from excitation\n",
    "def get_u(t, pulse_amplitude, pulse_duration):\n",
    "    '''\n",
    "    Generates excitation at time points in `t`\n",
    "    '''\n",
    "    pulse_start = 0.2\n",
    "    u = pulse_amplitude if (t > pulse_start) & (t < (pulse_start + pulse_duration)) else 0\n",
    "    return u\n",
    "\n",
    "def tau(a, u):\n",
    "    '''\n",
    "    See https://simtk-confluence.stanford.edu/display/OpenSim/First-Order+Activation+Dynamics\n",
    "    \n",
    "    Time constants altered to look similar to plots in \n",
    "    Robertson, G., Caldwell, G., Hamill, J., Kamen, G., & Whittlesey, S. (2013).\n",
    "    Research methods in biomechanics, 2E. Human Kinetics.\n",
    "    '''\n",
    "    t_act   = 0.001   # s\n",
    "    t_deact = 0.080   # s\n",
    "    return t_act * (0.5 + 1.5 * a) if u > a else t_deact / (0.5 + 1.5 * a)\n",
    "\n",
    "def dydt(y, t, pulse_amplitude, pulse_duration):\n",
    "    '''\n",
    "    Define differential equation relating activation and excitation.\n",
    "    '''\n",
    "    a = y\n",
    "    u = get_u(t, pulse_amplitude, pulse_duration)\n",
    "    dydt = (u - a) / tau(a, u)\n",
    "    return dydt"
   ]
  },
  {
   "cell_type": "code",
   "execution_count": 3,
   "metadata": {},
   "outputs": [
    {
     "data": {
      "application/vnd.jupyter.widget-view+json": {
       "model_id": "4a6c8627e20246c6839f6b42b3722dca",
       "version_major": 2,
       "version_minor": 0
      },
      "text/plain": [
       "interactive(children=(FloatSlider(value=0.2, description='pulse_duration', max=0.9, step=0.05), FloatSlider(va…"
      ]
     },
     "metadata": {},
     "output_type": "display_data"
    }
   ],
   "source": [
    "def do_it(pulse_duration=0.005, pulse_amplitude=1, total_duration=1.0):\n",
    "    dt = 0.0001\n",
    "    a0 = 0\n",
    "    t = np.arange(total_duration/dt) * dt\n",
    "    a = odeint(dydt, a0, t, args=(pulse_amplitude, pulse_duration))\n",
    "    u = [get_u(x, pulse_amplitude, pulse_duration) for x in t]\n",
    "    \n",
    "    v_ce   = np.zeros_like(t)\n",
    "    f_mtc  = np.zeros_like(t)\n",
    "    f_ce   = np.zeros_like(t)\n",
    "    f_isom = np.zeros_like(t)\n",
    "    f_see  = np.zeros_like(t)\n",
    "    l_see  = np.zeros_like(t)\n",
    "    muscle = openmuscle.Muscle(a[0])\n",
    "    for i, ai in enumerate(a):\n",
    "        f_mtc[i], f_ce[i], f_isomi, f_see[i], l_see[i] = muscle.step(ai, dt)\n",
    "        f_isom[i] = f_isomi * ai\n",
    "        v_ce[i] = muscle.v_CE\n",
    "        \n",
    "    fig = plt.figure(figsize=(12, 5))\n",
    "    gs = gridspec.GridSpec(2, 3, height_ratios=[3,1])\n",
    "    ax0 = plt.subplot(gs[0,0])\n",
    "    ax1 = plt.subplot(gs[1,0])\n",
    "    ax2 = plt.subplot(gs[:,1])\n",
    "    ax3 = plt.subplot(gs[:,2])\n",
    "\n",
    "    # allow time for model to settle at start\n",
    "    s = slice(int(0.1/dt), None)\n",
    "\n",
    "    ax0.plot(t[s], f_mtc[s] / muscle.CE.F_max, 'g-', label='$\\mathsf{F_{MTC}}$')\n",
    "    ax0.plot(t[s], f_isom[s], 'k-', label=\"$\\mathsf{F_{isom}}$\")\n",
    "    ax0.legend(fontsize=14)\n",
    "\n",
    "    ax1.plot(t[s], u[s], 'r-', label='excitation')\n",
    "    ax1.plot(t[s], a[s], 'k-', label='activation')\n",
    "    ax1.set_xlabel('time (s)')\n",
    "    ax1.legend(fontsize=14)\n",
    "\n",
    "    cmap = ListedColormap(sns.color_palette(\"Blues_d\"))\n",
    "    ax2.scatter(-v_ce[s], f_ce[s] / muscle.CE.F_max, c=t[s], vmin=t[0], vmax=t[-1], s=2, cmap=cmap)\n",
    "    ax2.set_xlabel('CE velocity')\n",
    "    ax2.set_ylabel('CE force')\n",
    "    \n",
    "    ax3.scatter(l_see[s], f_see[s], c=t[s], vmin=t[0], vmax=t[-1], s=2, cmap=cmap)\n",
    "    ax3.set_xlabel('SEE length')\n",
    "    ax3.set_ylabel('SEE force')\n",
    "    \n",
    "    sns.despine(fig)\n",
    "\n",
    "_ = interact(do_it, pulse_duration=FloatSlider(value=0.2, min=0.0, max=0.9, step=0.05), \\\n",
    "             pulse_amplitude=FloatSlider(value=1, min=0, max=1), \\\n",
    "             total_duration=FloatSlider(value=1, min=0.5, max=2))"
   ]
  },
  {
   "cell_type": "code",
   "execution_count": null,
   "metadata": {},
   "outputs": [],
   "source": []
  }
 ],
 "metadata": {
  "kernelspec": {
   "display_name": "Python 3",
   "language": "python",
   "name": "python3"
  },
  "language_info": {
   "codemirror_mode": {
    "name": "ipython",
    "version": 3
   },
   "file_extension": ".py",
   "mimetype": "text/x-python",
   "name": "python",
   "nbconvert_exporter": "python",
   "pygments_lexer": "ipython3",
   "version": "3.5.4"
  }
 },
 "nbformat": 4,
 "nbformat_minor": 2
}
